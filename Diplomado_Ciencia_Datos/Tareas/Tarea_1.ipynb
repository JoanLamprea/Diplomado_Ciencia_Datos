{
  "cells": [
    {
      "cell_type": "markdown",
      "metadata": {
        "id": "view-in-github",
        "colab_type": "text"
      },
      "source": [
        "<a href=\"https://colab.research.google.com/github/JoanLamprea/Diplomado_Ciencia_Datos/blob/main/Diplomado_Ciencia_Datos/Tareas/Tarea_1.ipynb\" target=\"_parent\"><img src=\"https://colab.research.google.com/assets/colab-badge.svg\" alt=\"Open In Colab\"/></a>"
      ]
    },
    {
      "cell_type": "markdown",
      "id": "259efea5-98d6-433c-aad0-35d1679edc12",
      "metadata": {
        "tags": [],
        "id": "259efea5-98d6-433c-aad0-35d1679edc12"
      },
      "source": [
        "**<h1><center>Curtosis</center></h1>**"
      ]
    },
    {
      "cell_type": "markdown",
      "id": "e0e773e1-048e-46a5-93b4-57e675056701",
      "metadata": {
        "id": "e0e773e1-048e-46a5-93b4-57e675056701"
      },
      "source": [
        "<h1 align=\"center\"><img src='https://img.freepik.com/premium-photo/artificial-intelligence-humanoid-head-with-neural-network-thinks-futuristic-modern-3d-illustration_76964-5497.jpg?w=740' width=\"100\"></h1>"
      ]
    },
    {
      "cell_type": "markdown",
      "id": "69e5d418-e884-4e4b-b7ad-8ec8f8958569",
      "metadata": {
        "id": "69e5d418-e884-4e4b-b7ad-8ec8f8958569"
      },
      "source": [
        "## Acerca del autor"
      ]
    },
    {
      "cell_type": "markdown",
      "id": "f606bd20-ccc6-4a3e-9852-358ba65aaeb7",
      "metadata": {
        "id": "f606bd20-ccc6-4a3e-9852-358ba65aaeb7"
      },
      "source": [
        "<h1 align=\"center\"><img src='https://lh3.googleusercontent.com/a/AEdFTp7_iA0Gxb4BTkCZScnFW9mYazFXUPVuDj2U_Qz_=s360-p-rw-no' width=\"100\"></h1>\n"
      ]
    },
    {
      "cell_type": "markdown",
      "id": "b25c32cd-d186-4651-ba37-d5265c88402d",
      "metadata": {
        "id": "b25c32cd-d186-4651-ba37-d5265c88402d"
      },
      "source": [
        "¡Mucho gusto! Soy Joan Lamprea. \n",
        "Soy estudiante de noveno semestre de estadística de la Univesidad Nacional de Colombia, en la cual he aprendido tópicos de series de tiempo, demografía, análisis multivariado, muestreo estadístico, estadística descriptiva multivariada, diseño de experimentos y diseño y desarrollo de encuestas. Actualmente me encuentro cursando Estadística Bayesiana e Inteligencia Artificial, además de mis materias obligatorias para graduarme. \n",
        "Por fuera de la institución, estoy realizando dos diplomados: uno introductorio al mundo del Machine Learning y otro relacionado con Tableau. \n",
        "Espero que en este curso de Inteligencia Artificial pueda desarrollar habilidades valiosas para el ámbito laboral actual."
      ]
    },
    {
      "cell_type": "markdown",
      "id": "d0e10763-aefd-4b8e-b44e-328099c64fc0",
      "metadata": {
        "id": "d0e10763-aefd-4b8e-b44e-328099c64fc0"
      },
      "source": [
        "## ¿Qué es Curtosis?"
      ]
    },
    {
      "cell_type": "markdown",
      "id": "bd066fe0-ee8a-4641-956f-9e2fbbcc8dc4",
      "metadata": {
        "id": "bd066fe0-ee8a-4641-956f-9e2fbbcc8dc4"
      },
      "source": [
        "Determina que tan empinada se encuentra una distribución. En otras palabras, la curtosis es la característica de ser plana o puntiaguda. Es una medida de si los datos tienen colas pesadas o ligeras en una distribución normal."
      ]
    },
    {
      "cell_type": "markdown",
      "id": "2dbfebe7-7aee-406a-a9f1-22f25b878ee1",
      "metadata": {
        "id": "2dbfebe7-7aee-406a-a9f1-22f25b878ee1"
      },
      "source": [
        "## Coeficiente de Curtosis"
      ]
    },
    {
      "cell_type": "markdown",
      "id": "1cf72e79-da17-4eda-a09e-40b187dd68a3",
      "metadata": {
        "id": "1cf72e79-da17-4eda-a09e-40b187dd68a3"
      },
      "source": [
        "Definimos el Coeficiente de Curtosis $Ku$ como\n",
        "$$Ku=\\frac{\\mu_4}{\\sigma^4}$$\n",
        "donde $\\mu _{4}$ es el 4º momento centrado o con respecto a la media y $\\sigma$ es la desviación estándar de la distribución a trabajar."
      ]
    },
    {
      "cell_type": "markdown",
      "id": "1883468b-251d-4aec-b3db-ab662a2c7ce1",
      "metadata": {
        "id": "1883468b-251d-4aec-b3db-ab662a2c7ce1"
      },
      "source": [
        "Un valor grande de curtosis suele significar que las colas de la distribución obtienen valores más extremos que la cola de la distribución normal. Esto puede dar lugar a una longitud de 6 ó 7 desviaciones típicas de la media. Del mismo modo, si el valor de curtosis es muy bajo, la cola de la distribución será menos larga que la cola de una distribución normal (menos de 3 desviaciones estándar).\n",
        "\n",
        "Un valor grande de curtosis suele considerarse más arriesgado porque los datos pueden tender a dar un valor atípico como resultado con una distancia mayor respecto a la media si se aplica a cualquier algoritmo de aprendizaje automático.\n"
      ]
    },
    {
      "cell_type": "markdown",
      "id": "e27254a3-60f1-42f5-bb08-7306b2249838",
      "metadata": {
        "id": "e27254a3-60f1-42f5-bb08-7306b2249838"
      },
      "source": [
        "## Exceso de Curtosis"
      ]
    },
    {
      "cell_type": "markdown",
      "id": "ac7e969d-0bc5-4a6f-bb8d-9a38f35065da",
      "metadata": {
        "id": "ac7e969d-0bc5-4a6f-bb8d-9a38f35065da"
      },
      "source": [
        "El exceso de Curtosis parte de que, en la distribución normal, se verifica que $\\mu_4=3\\sigma^4$. Ahora, se le sustrae 3 (que es la curtosis de la distribución normal o gaussiana) con objeto de generar un coeficiente que valga 0 para la Normal y tome a ésta como referencia de curtosis. Por tanto, el coeficiente de exceso de Curtosis $eKu$ se define como: "
      ]
    },
    {
      "cell_type": "markdown",
      "id": "75f20d3c-4acd-40f0-9341-944048a28341",
      "metadata": {
        "id": "75f20d3c-4acd-40f0-9341-944048a28341"
      },
      "source": [
        "$$eKu=Ku-3=\\frac{\\mu_4}{\\sigma^4}-3$$"
      ]
    },
    {
      "cell_type": "markdown",
      "id": "e327983e-aec3-4ab9-8148-b1377c4942e3",
      "metadata": {
        "id": "e327983e-aec3-4ab9-8148-b1377c4942e3"
      },
      "source": [
        "## Tipos de Curtosis"
      ]
    },
    {
      "cell_type": "markdown",
      "id": "c7b81656-7a61-4ba2-b858-1de0ba631fbb",
      "metadata": {
        "id": "c7b81656-7a61-4ba2-b858-1de0ba631fbb"
      },
      "source": [
        "### Mesocúrtica\n",
        "Esta distribución tiene colas a menudo similares a la distribución normal. Se tiene cuando $Ku = 3$ y $eKu = 0$\n",
        "\n",
        "### Leptocúrtica\n",
        "Esta distribución tendrá colas muy largas y delgadas. Esto significa que hay más posibilidades de que haya valores atípicos. Se presenta cuando $Ku > 3$ y $eKu > 0$.\n",
        "\n",
        "### Platicúrtica\n",
        "Esta distribución tendrá colas muy bajas y estiradas alrededor del centro, lo que significa que la mayoría de los puntos de datos están presentes muy cerca de la media. Se presenta cuando $Ku < 3$ y $eKu < 0$."
      ]
    },
    {
      "cell_type": "markdown",
      "id": "d2060d20-0b8d-4028-8f41-ea977120d1ef",
      "metadata": {
        "id": "d2060d20-0b8d-4028-8f41-ea977120d1ef"
      },
      "source": [
        "<h1 align=\"center\"><img src='https://mvpprograms.com/help/images/KurtosisPict.jpg' width=\"500\"></h1>\n",
        "*Tipos de curtosis. Representaciópn gráfica. \n",
        "<a href=\"https://mvpprograms.com/help/images/KurtosisPict.jpg\">Mvp Programs</a"
      ]
    },
    {
      "cell_type": "markdown",
      "id": "06deda94-aba9-4410-829c-367bb857d89a",
      "metadata": {
        "id": "06deda94-aba9-4410-829c-367bb857d89a"
      },
      "source": [
        "### Ejemplo"
      ]
    },
    {
      "cell_type": "markdown",
      "id": "65ec9479-9be5-463b-aecb-3e9d2f38aea9",
      "metadata": {
        "id": "65ec9479-9be5-463b-aecb-3e9d2f38aea9"
      },
      "source": [
        "Tenemos los siguientes datos: $5, 5, 4, 7, 7, 7, 9, 8, 9, 4, 3$\n",
        "\n",
        "En primer lugar se calcula el promedio de las calificaciones. Hay N = 11 datos.\n",
        "\n",
        "$$\\bar{X} = (5+5+4+7+7+7+9+8+9+4+3)/11 = 6.182$$\n",
        "\n",
        "Después se obtiene la desviación estándar:\n",
        "\n",
        "$$\\sigma = 1.992$$\n",
        "\n",
        "Se tiene que $∑ (x_i – \\bar{X})^4= 290.15$\n",
        "\n",
        "Por lo tanto, el coeficiente de Curtosis:\n",
        "\n",
        "$$Ku = \\frac{\\frac{1}{11}  290.15} {1.9924} = 1.675$$\n",
        "\n",
        "El coeficiente de exceso de Curtosis:\n",
        "\n",
        "$$eKu = Ku – 3 = 1.675 – 3 = -1.325$$"
      ]
    },
    {
      "cell_type": "code",
      "execution_count": null,
      "id": "26929028-7d29-4a9d-8073-0325ba11e86b",
      "metadata": {
        "id": "26929028-7d29-4a9d-8073-0325ba11e86b",
        "outputId": "04b5f129-7f31-459e-8c32-b9f3ae38481d"
      },
      "outputs": [
        {
          "name": "stdout",
          "output_type": "stream",
          "text": [
            "1.6761458333333328\n",
            "-1.3238541666666672\n"
          ]
        }
      ],
      "source": [
        "# !pip install scipy\n",
        "from scipy.stats import kurtosis\n",
        "X = [5,5,4,7,7,7,9,8,9,4,3]\n",
        "# Coeficiente de Curtosis\n",
        "print(kurtosis(X,fisher = False))\n",
        "# Coeficiente de Exceso de Curtosis\n",
        "print(kurtosis(X))"
      ]
    },
    {
      "cell_type": "markdown",
      "id": "739c245a-7534-43b8-a0b2-639fb1f38a83",
      "metadata": {
        "id": "739c245a-7534-43b8-a0b2-639fb1f38a83"
      },
      "source": [
        "# Referencias"
      ]
    },
    {
      "cell_type": "markdown",
      "id": "2f26a627-6f6b-4c70-ba37-8dc4f148cbd8",
      "metadata": {
        "id": "2f26a627-6f6b-4c70-ba37-8dc4f148cbd8"
      },
      "source": [
        "- Colaboradores de Wikipedia. (2021, 27 diciembre). Curtosis. Wikipedia, la enciclopedia libre. https://es.wikipedia.org/wiki/Curtosis\n",
        "- Nandakumar, S. (2022, 28 marzo). Skewness and Kurtosis in data science - Dev Genius. Medium. https://blog.devgenius.io/skewness-and-kurtosis-in-data-science-aa795ba4b453"
      ]
    }
  ],
  "metadata": {
    "kernelspec": {
      "display_name": "Python 3 (ipykernel)",
      "language": "python",
      "name": "python3"
    },
    "language_info": {
      "codemirror_mode": {
        "name": "ipython",
        "version": 3
      },
      "file_extension": ".py",
      "mimetype": "text/x-python",
      "name": "python",
      "nbconvert_exporter": "python",
      "pygments_lexer": "ipython3",
      "version": "3.10.9"
    },
    "colab": {
      "provenance": [],
      "include_colab_link": true
    }
  },
  "nbformat": 4,
  "nbformat_minor": 5
}