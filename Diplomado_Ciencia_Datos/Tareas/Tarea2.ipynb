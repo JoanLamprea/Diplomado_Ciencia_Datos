{
 "cells": [
  {
   "cell_type": "markdown",
   "id": "f077986a-46a6-497e-861e-3f6cc6fe92ac",
   "metadata": {},
   "source": [
    "# Tarea 2"
   ]
  },
  {
   "cell_type": "markdown",
   "id": "50c0787c-ffc5-48d8-aeed-3d067ad09235",
   "metadata": {},
   "source": [
    "1. Escriba una función que reciba la fecha de nacimiento de una persona y calcule la edad de la persona"
   ]
  },
  {
   "cell_type": "code",
   "execution_count": 56,
   "id": "056185cc-7deb-41c9-8980-55804db68a63",
   "metadata": {},
   "outputs": [
    {
     "name": "stdout",
     "output_type": "stream",
     "text": [
      "Tiene 23 años, 4 meses, 18 días de edad\n"
     ]
    }
   ],
   "source": [
    "from datetime import datetime, date\n",
    "\n",
    "def calcular_edad(fecha_nacimiento):\n",
    "    fecha_actual = date.today()\n",
    "\n",
    "    anios_completos = fecha_actual.year - fecha_nacimiento.year\n",
    "    meses_completos = fecha_actual.month - fecha_nacimiento.month\n",
    "    dias_completos = fecha_actual.day - fecha_nacimiento.day\n",
    "\n",
    "    if meses_completos < 0 or (meses_completos == 0 and dias_completos < 0):\n",
    "        anios_completos -= 1\n",
    "    if meses_completos < 0:\n",
    "        meses_completos += 12\n",
    "    if dias_completos < 0:\n",
    "        dias_completos += 30\n",
    "\n",
    "    return anios_completos, meses_completos, dias_completos\n",
    "\n",
    "fecha_nacimiento = datetime.strptime('1999-10-27', '%Y-%m-%d').date()\n",
    "anios, meses, dias = calcular_edad(fecha_nacimiento)\n",
    "print(f\"Tiene {anios} años, {meses} meses, {dias} días de edad\")\n"
   ]
  },
  {
   "cell_type": "markdown",
   "id": "8f6f3705-4a4f-4811-a52e-00bebb6be100",
   "metadata": {},
   "source": [
    "2. Crea una función EscribirCentrado, que reciba como parámetro un texto y lo escriba centrado en pantalla (suponiendo una anchura de 80 columnas; pista: deberás escribir 40 - longitud/2 espacios antes del texto).  "
   ]
  },
  {
   "cell_type": "code",
   "execution_count": 62,
   "id": "b1eb29e7-14df-490e-964a-742792717fdf",
   "metadata": {},
   "outputs": [
    {
     "name": "stdout",
     "output_type": "stream",
     "text": [
      "                      Un texto xd xd  xd xd dd dddqwsda a                       \n",
      "       cccccccccccccccccccccccccccccccccccccccccccccccccccccccccccccccccc       \n"
     ]
    }
   ],
   "source": [
    "def EscribirCentrado(texto):\n",
    "    longitud = len(texto)\n",
    "    margen = 40 - longitud // 2\n",
    "    print(\" \" * margen + texto + \" \" * margen)\n",
    "\n",
    "mensaje1 = \"Un texto xd xd  xd xd dd dddqwsda a \"\n",
    "EscribirCentrado(mensaje1) \n",
    "mensaje2 = \"cccccccccccccccccccccccccccccccccccccccccccccccccccccccccccccccccc\"\n",
    "EscribirCentrado(mensaje2) "
   ]
  },
  {
   "cell_type": "markdown",
   "id": "95e92485-bcef-45f8-9fd5-ec52c288c8f2",
   "metadata": {},
   "source": [
    "3. Construya una función decorada que reciba un texto y lo escriba marcado con Markdown en itálica y resaltada (bold). Revise la lección de decoradores, no vista en clase.\n"
   ]
  },
  {
   "cell_type": "code",
   "execution_count": 59,
   "id": "f9f6194f-de89-4b4f-b280-835738bdac45",
   "metadata": {},
   "outputs": [
    {
     "name": "stdout",
     "output_type": "stream",
     "text": [
      "***Este es un texto en negrilla e itálica en Markdown***\n"
     ]
    }
   ],
   "source": [
    "def markdown(func):\n",
    "    def negrilla_italica(texto):\n",
    "        return f\"***{func(texto)}***\"\n",
    "    return negrilla_italica\n",
    "\n",
    "@markdown\n",
    "def Escribir(texto):\n",
    "    return texto\n",
    "texto = \"Este es un texto en negrilla e itálica en Markdown\"\n",
    "resultado = Escribir(texto)\n",
    "print(resultado)"
   ]
  },
  {
   "cell_type": "markdown",
   "id": "1d515b6c-1c39-43af-aa70-f49d49efa868",
   "metadata": {},
   "source": [
    "4.  Crea un programa que pida dos número enteros al usuario y diga si alguno de ellos es múltiplo del otro. "
   ]
  },
  {
   "cell_type": "code",
   "execution_count": 60,
   "id": "0824ed03-68b8-4e55-90bf-24a49623d2f3",
   "metadata": {},
   "outputs": [
    {
     "name": "stdout",
     "output_type": "stream",
     "text": [
      "5 y 6 no son múltiplos\n",
      "El número 12 es múltiplo de 2\n",
      "El número 14 es múltiplo de 7\n"
     ]
    }
   ],
   "source": [
    "def multiplos(a, b):\n",
    "    return f\"El número {a} es múltiplo de {b}\" if a % b == 0 else f\"El número {b} es múltiplo de {a}\" if b % a == 0 else f\"{a} y {b} no son múltiplos\"\n",
    "En esta implementación, se utiliza un operador ternario para verificar si a es múltiplo de b. Si la condición se cumple, se devuelve el mensaje correspondiente. Si no se cumple, se evalúa la segunda condición utilizando otro operador ternario, que verifica si b es múltiplo de a. Si esta segunda condición se cumple, se devuelve el mensaje correspondiente. Finalmente, si ninguna de las dos condiciones se cumple, se devuelve el mensaje indicando que a y b no son múltiplos.\n",
    "\n",
    "Esta implementación es más corta que la original porque elimina la necesidad de escribir dos bloques de control if-else, y lo reemplaza con dos operadores ternarios encadenados.\n",
    "a=5\n",
    "b=6\n",
    "print(multiplos(a,b))\n",
    "a=12\n",
    "b=2\n",
    "print(multiplos(a,b))\n",
    "a=7\n",
    "b=14\n",
    "print(multiplos(a,b))"
   ]
  },
  {
   "cell_type": "markdown",
   "id": "07ef9b80-038e-42d6-83cb-3853a450951f",
   "metadata": {},
   "source": [
    "5. Crear una función que reciba una lista de 24 valores de temperatura leída hora en un día y que calcule la temperatura media. Cree una lista con 24 valores de temperatura de un día de Bogotá y pruebe su función. Invente los datos."
   ]
  },
  {
   "cell_type": "code",
   "execution_count": 29,
   "id": "02f110ef-9b41-4253-b841-67841053d6cc",
   "metadata": {},
   "outputs": [
    {
     "name": "stdout",
     "output_type": "stream",
     "text": [
      "[16.165148955667746, 6.587860291540785, 9.033041743103748, 9.48264710753671, 16.723575791759153, 9.060265457888113, 17.44813618011661, 4.270581871450761, 4.2924615626277784, 5.570854309973976, 28.173878023370087, 18.090483320616755, 10.17515945595047, 3.4323941220405416, 29.654665493393217, 9.623112430311267, 5.005878537007248, 15.497919283452623, 26.104520569832356, 3.3098090357440837, 10.226869006236857, 26.801228116175132, 0.16637153108159497, 14.607763391953425, 21.201518813073722]\n"
     ]
    },
    {
     "data": {
      "text/plain": [
       "12.828245776076189"
      ]
     },
     "execution_count": 29,
     "metadata": {},
     "output_type": "execute_result"
    }
   ],
   "source": [
    "import numpy\n",
    "from random import *\n",
    "\n",
    "def temp_media(lista):\n",
    "    return numpy.mean(lista)\n",
    "\n",
    "lista = [uniform(0,30) for _ in range(25)]\n",
    "print(lista)\n",
    "temp_media(lista)        "
   ]
  },
  {
   "cell_type": "markdown",
   "id": "8e4d713f-0039-4de2-bb30-4e938a303265",
   "metadata": {},
   "source": [
    "6. Crea un función “ConvertirEspaciado”, que reciba como parámetro un texto y devuelve una cadena con un espacio adicional tras cada letra. Por ejemplo, “Hola, tú” devolverá “H o l a , t ú “.  Pruebe "
   ]
  },
  {
   "cell_type": "code",
   "execution_count": 35,
   "id": "8de39b6a-b2d5-4135-a648-e6b78daf3a4e",
   "metadata": {},
   "outputs": [
    {
     "data": {
      "text/plain": [
       "'H o l a ,   t ú'"
      ]
     },
     "execution_count": 35,
     "metadata": {},
     "output_type": "execute_result"
    }
   ],
   "source": [
    "def ConvertirEspaciado(text):\n",
    "    return \" \".join(text)\n",
    "text = \"Hola, tú\"\n",
    "ConvertirEspaciado(text)    "
   ]
  },
  {
   "cell_type": "markdown",
   "id": "6478a789-0298-4701-8502-ab2589729ac6",
   "metadata": {},
   "source": [
    "7. Crea una función “calcularMaxMin” que recibe una arreglo con valores numérico y devuelve el valor máximo y el mínimo. "
   ]
  },
  {
   "cell_type": "code",
   "execution_count": 48,
   "id": "3dfd8011-3666-4548-b306-8bd9f57bfbef",
   "metadata": {},
   "outputs": [
    {
     "name": "stdout",
     "output_type": "stream",
     "text": [
      "El mínimo de la lista es 2.6 y el máximo es 58\n"
     ]
    }
   ],
   "source": [
    "def calcularMaxMin(array):\n",
    "    return [min(array), max(array)]\n",
    "\n",
    "array = [4, 5, 2.6, 3, 58]\n",
    "minMax = calcularMaxMin(array)\n",
    "print(f'El mínimo de la lista es {minMax[0]} y el máximo es {minMax[1]}')"
   ]
  },
  {
   "cell_type": "markdown",
   "id": "1d595062-8949-45f7-9c3e-c065635b0c60",
   "metadata": {},
   "source": [
    "8. Diseñar una función que calcule el área y el perímetro de una circunferencia. "
   ]
  },
  {
   "cell_type": "code",
   "execution_count": 47,
   "id": "a3d32093-5c99-45be-bfe9-c8c5ce8d00e1",
   "metadata": {},
   "outputs": [
    {
     "name": "stdout",
     "output_type": "stream",
     "text": [
      "El área del círculo es 49.34802200544679 y su circunferencia es 31.41592653589793\n"
     ]
    }
   ],
   "source": [
    "import math\n",
    "def area_perimetro(radio):\n",
    "    return [math.pi*math.pi*radio,2*math.pi*radio]\n",
    "radio = 5\n",
    "ap = area_perimetro(radio)\n",
    "print(f'El área del círculo es {ap[0]} y su circunferencia es {ap[1]}')"
   ]
  },
  {
   "cell_type": "markdown",
   "id": "32991f9e-ba32-4c6c-a408-66ab074d41bc",
   "metadata": {},
   "source": [
    "9. Crear una función  llamada “Login”, que recibe un nombre de usuario y una contraseña y devuelva Verdadero si el nombre de usuario es “usuario1” y la contraseña es “asdasd”. Además recibe el número de intentos que se ha intentado hacer login y si no se ha podido hacer login incremente este valor."
   ]
  },
  {
   "cell_type": "code",
   "execution_count": 1,
   "id": "d7e5fb4c-f7fb-4d57-8f0b-a4d75013c4fb",
   "metadata": {},
   "outputs": [
    {
     "name": "stdin",
     "output_type": "stream",
     "text": [
      "Nombre de usuario:  asdasd\n",
      "Contraseña:  asdas\n"
     ]
    },
    {
     "name": "stdout",
     "output_type": "stream",
     "text": [
      "Nombre de usuario o contraseña incorrectos. Intenta de nuevo.\n",
      "Te quedan 2 intentos.\n"
     ]
    },
    {
     "name": "stdin",
     "output_type": "stream",
     "text": [
      "Nombre de usuario:  asdasd\n",
      "Contraseña:  asdasd\n"
     ]
    },
    {
     "name": "stdout",
     "output_type": "stream",
     "text": [
      "Nombre de usuario o contraseña incorrectos. Intenta de nuevo.\n",
      "Te quedan 1 intentos.\n"
     ]
    },
    {
     "name": "stdin",
     "output_type": "stream",
     "text": [
      "Nombre de usuario:  asdasd\n",
      "Contraseña:  asdas\n"
     ]
    },
    {
     "name": "stdout",
     "output_type": "stream",
     "text": [
      "Nombre de usuario o contraseña incorrectos. Intenta de nuevo.\n",
      "Te quedan 0 intentos.\n",
      "Límite de intentos alcanzado. Inténtalo más tarde.\n"
     ]
    }
   ],
   "source": [
    "def Login(usuario, contraseña, intentos):\n",
    "    usuario_correcto = \"usuario1\"\n",
    "    contraseña_correcta = \"asdasd\"\n",
    "    \n",
    "    if usuario == usuario_correcto and contraseña == contraseña_correcta:\n",
    "        return True, intentos\n",
    "    else:\n",
    "        intentos += 1\n",
    "        return False, intentos\n",
    "intentos = 0\n",
    "while intentos < 3:\n",
    "    usuario = input(\"Nombre de usuario: \")\n",
    "    contraseña = input(\"Contraseña: \")\n",
    "    \n",
    "    login_exitoso, intentos = Login(usuario, contraseña, intentos)\n",
    "    \n",
    "    if login_exitoso:\n",
    "        print(\"Inicio de sesión exitoso\")\n",
    "        break\n",
    "    else:\n",
    "        print(\"Nombre de usuario o contraseña incorrectos. Intenta de nuevo.\")\n",
    "        print(f\"Te quedan {3 - intentos} intentos.\")\n",
    "        \n",
    "if intentos == 3:\n",
    "    print(\"Límite de intentos alcanzado. Inténtalo más tarde.\")\n"
   ]
  },
  {
   "cell_type": "markdown",
   "id": "cbe6d0e4-9c6c-47a8-8bb6-464cd42a2369",
   "metadata": {},
   "source": [
    "10. Crear una función recursiva que permita calcular el factorial de un número. Realiza un programa principal donde se lea un entero y se muestre el resultado del factorial. Revise la lección de funciones."
   ]
  },
  {
   "cell_type": "code",
   "execution_count": 2,
   "id": "28c3bb90-57cd-46a8-821f-9547e61831a2",
   "metadata": {},
   "outputs": [
    {
     "name": "stdin",
     "output_type": "stream",
     "text": [
      "Ingrese un número entero:  9\n"
     ]
    },
    {
     "name": "stdout",
     "output_type": "stream",
     "text": [
      "El factorial de 9 es 362880\n"
     ]
    }
   ],
   "source": [
    "def factorial(n): return 1 if n==0 else n*factorial(n-1)\n",
    "n = int(input(\"Ingrese un número entero: \"))\n",
    "print(f\"El factorial de {n} es {factorial(n)}\")\n"
   ]
  },
  {
   "cell_type": "markdown",
   "id": "63b7e37e-6225-40d8-9355-9ca01f881395",
   "metadata": {},
   "source": [
    "11. Escribir dos funciones que permitan calcular:\n",
    "-La cantidad de segundos en un tiempo dado en horas, minutos y segundos.\n",
    "-La cantidad de horas, minutos y segundos de un tiempo dado en segundos"
   ]
  },
  {
   "cell_type": "code",
   "execution_count": 3,
   "id": "9a11612a-1c40-41c1-b850-ad9f38b14be8",
   "metadata": {},
   "outputs": [
    {
     "name": "stdout",
     "output_type": "stream",
     "text": [
      "2 horas, 30 minutos y 45 segundos equivalen a 9045 segundos.\n",
      "9045 segundos equivalen a 2 horas, 30 minutos y 45 segundos.\n"
     ]
    }
   ],
   "source": [
    "# Definir funciones para convertir tiempo en segundos y viceversa\n",
    "def tiempo_a_segundos(horas, minutos, segundos):\n",
    "    return horas*3600 + minutos*60 + segundos\n",
    "\n",
    "def segundos_a_tiempo(segundos):\n",
    "    horas = segundos // 3600\n",
    "    segundos = segundos % 3600\n",
    "    minutos = segundos // 60\n",
    "    segundos = segundos % 60\n",
    "    return horas, minutos, segundos\n",
    "\n",
    "# Convertir 2 horas, 30 minutos y 45 segundos a segundos\n",
    "segundos_totales = tiempo_a_segundos(2, 30, 45)\n",
    "\n",
    "# Convertir los segundos totales a horas, minutos y segundos\n",
    "horas, minutos, segundos = segundos_a_tiempo(segundos_totales)\n",
    "\n",
    "# Imprimir el resultado\n",
    "print(f\"2 horas, 30 minutos y 45 segundos equivalen a {segundos_totales} segundos.\")\n",
    "print(f\"{segundos_totales} segundos equivalen a {horas} horas, {minutos} minutos y {segundos} segundos.\")\n",
    "\n"
   ]
  },
  {
   "cell_type": "markdown",
   "id": "ee05d76f-5f21-448a-9fd3-d9aa4df172cb",
   "metadata": {},
   "source": [
    "12. Crea una función  que lea una tupla, invierta los valores de la tupla y regrese una nueva tupla invirtiendo los valores. Recuerde que las tuplas son inmutables."
   ]
  },
  {
   "cell_type": "code",
   "execution_count": 4,
   "id": "2c72016c-6a8c-478a-8431-55ededbb0c55",
   "metadata": {},
   "outputs": [
    {
     "name": "stdout",
     "output_type": "stream",
     "text": [
      "(5, 4, 3, 2, 1)\n"
     ]
    }
   ],
   "source": [
    "def invertir_tupla(tupla):\n",
    "    return tuple(reversed(tupla))\n",
    "\n",
    "# Ejemplo\n",
    "mi_tupla = (1, 2, 3, 4, 5)\n",
    "tupla_invertida = invertir_tupla(mi_tupla)\n",
    "print(tupla_invertida)"
   ]
  },
  {
   "cell_type": "markdown",
   "id": "bf82b42d-da93-44f3-80d8-1b9caf5eee60",
   "metadata": {},
   "source": [
    "13. Escriba una función que lea una lista y calcule la media geométrica de sus valores, usando funtools.reduce."
   ]
  },
  {
   "cell_type": "code",
   "execution_count": 5,
   "id": "fd8a4800-56a5-4ca1-a7c4-0abd9e4767b6",
   "metadata": {},
   "outputs": [
    {
     "name": "stdout",
     "output_type": "stream",
     "text": [
      "2.605171084697352\n"
     ]
    }
   ],
   "source": [
    "from functools import reduce\n",
    "\n",
    "def media_geometrica(lista):\n",
    "    n = len(lista)\n",
    "    producto = reduce(lambda x, y: x * y, lista)\n",
    "    media_geométrica = producto ** (1/n)\n",
    "    return media_geométrica\n",
    "lista = [1, 2, 3, 4, 5]\n",
    "media_geométrica = media_geometrica(lista)\n",
    "print(media_geométrica)"
   ]
  }
 ],
 "metadata": {
  "kernelspec": {
   "display_name": "Python 3 (ipykernel)",
   "language": "python",
   "name": "python3"
  },
  "language_info": {
   "codemirror_mode": {
    "name": "ipython",
    "version": 3
   },
   "file_extension": ".py",
   "mimetype": "text/x-python",
   "name": "python",
   "nbconvert_exporter": "python",
   "pygments_lexer": "ipython3",
   "version": "3.10.9"
  }
 },
 "nbformat": 4,
 "nbformat_minor": 5
}
