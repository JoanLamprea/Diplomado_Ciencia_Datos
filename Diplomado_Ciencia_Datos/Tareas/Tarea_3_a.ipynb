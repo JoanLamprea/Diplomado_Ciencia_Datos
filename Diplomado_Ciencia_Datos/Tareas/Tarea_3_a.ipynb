{
 "cells": [
  {
   "cell_type": "markdown",
   "id": "d3274017-28df-4526-88f2-82b21d3f6463",
   "metadata": {},
   "source": [
    "# Tarea 3"
   ]
  },
  {
   "cell_type": "markdown",
   "id": "93ff1348-5d16-4684-8bab-76cd272e447c",
   "metadata": {},
   "source": [
    "1. Consiga el conjunto de datos iris.csv. En el repositorio de Aprendizaje Profundo encuentra alguna versión.  \n",
    "2. Escriba una clase iterable que tenga la siguiente funcionalidad   \n",
    "2.1 Al instanciar un objeto, lee el archivo de datos y lo coloca en un dataframe interno en la clase.  \n",
    "2.2. Cada vez que se le pidan datos, debe regresar los dos siguientes datos.  \n",
    "2.3 Entregue un error si los datos se han agotado  "
   ]
  },
  {
   "cell_type": "code",
   "execution_count": 11,
   "id": "add49443-0769-4941-9023-d9163f288b01",
   "metadata": {},
   "outputs": [],
   "source": [
    "# !pip install pandas\n",
    "# !pip install matplotlib\n",
    "# !pip install numpy\n",
    "import pandas as pd\n",
    "import matplotlib.pyplot as plt\n",
    "import numpy as np"
   ]
  },
  {
   "cell_type": "code",
   "execution_count": 12,
   "id": "28566cff-f8ad-4e9a-9c3c-b8e3e5f662a5",
   "metadata": {},
   "outputs": [],
   "source": [
    "class IrisDataIterator:\n",
    "    def __init__(self, file_path):\n",
    "        self.data = pd.read_csv(file_path)\n",
    "        self.index = 0\n",
    "\n",
    "    def __iter__(self):\n",
    "        return self\n",
    "\n",
    "    def __next__(self):\n",
    "        if self.index >= len(self.data):\n",
    "            raise StopIteration\n",
    "            return \"Se han acabado los datos\"\n",
    "        else:\n",
    "            row = self.data.iloc[self.index]\n",
    "            self.index += 2\n",
    "            if self.index > len(self.data):\n",
    "                self.index = len(self.data)\n",
    "            return row.values[0:2]"
   ]
  },
  {
   "cell_type": "code",
   "execution_count": 13,
   "id": "574e98dd-254a-4645-b879-2c61664f7560",
   "metadata": {},
   "outputs": [
    {
     "name": "stdout",
     "output_type": "stream",
     "text": [
      "[5.1 3.5]\n",
      "[4.7 3.2]\n",
      "[5.0 3.6]\n",
      "[4.6 3.4]\n",
      "[4.4 2.9]\n",
      "[5.4 3.7]\n",
      "[4.8 3.0]\n",
      "[5.8 4.0]\n",
      "[5.4 3.9]\n",
      "[5.7 3.8]\n",
      "[5.4 3.4]\n",
      "[4.6 3.6]\n",
      "[4.8 3.4]\n",
      "[5.0 3.4]\n",
      "[5.2 3.4]\n",
      "[4.8 3.1]\n",
      "[5.2 4.1]\n",
      "[4.9 3.1]\n",
      "[5.5 3.5]\n",
      "[4.4 3.0]\n",
      "[5.0 3.5]\n",
      "[4.4 3.2]\n",
      "[5.1 3.8]\n",
      "[5.1 3.8]\n",
      "[5.3 3.7]\n",
      "[7.0 3.2]\n",
      "[6.9 3.1]\n",
      "[6.5 2.8]\n",
      "[6.3 3.3]\n",
      "[6.6 2.9]\n",
      "[5.0 2.0]\n",
      "[6.0 2.2]\n",
      "[5.6 2.9]\n",
      "[5.6 3.0]\n",
      "[6.2 2.2]\n",
      "[5.9 3.2]\n",
      "[6.3 2.5]\n",
      "[6.4 2.9]\n",
      "[6.8 2.8]\n",
      "[6.0 2.9]\n",
      "[5.5 2.4]\n",
      "[5.8 2.7]\n",
      "[5.4 3.0]\n",
      "[6.7 3.1]\n",
      "[5.6 3.0]\n",
      "[5.5 2.6]\n",
      "[5.8 2.6]\n",
      "[5.6 2.7]\n",
      "[5.7 2.9]\n",
      "[5.1 2.5]\n",
      "[6.3 3.3]\n",
      "[7.1 3.0]\n",
      "[6.5 3.0]\n",
      "[4.9 2.5]\n",
      "[6.7 2.5]\n",
      "[6.5 3.2]\n",
      "[6.8 3.0]\n",
      "[5.8 2.8]\n",
      "[6.5 3.0]\n",
      "[7.7 2.6]\n",
      "[6.9 3.2]\n",
      "[7.7 2.8]\n",
      "[6.7 3.3]\n",
      "[6.2 2.8]\n",
      "[6.4 2.8]\n",
      "[7.4 2.8]\n",
      "[6.4 2.8]\n",
      "[6.1 2.6]\n",
      "[6.3 3.4]\n",
      "[6.0 3.0]\n",
      "[6.7 3.1]\n",
      "[5.8 2.7]\n",
      "[6.7 3.3]\n",
      "[6.3 2.5]\n",
      "[6.2 3.4]\n"
     ]
    }
   ],
   "source": [
    "iris_iterator = IrisDataIterator('iris.csv')\n",
    "for data in iris_iterator:\n",
    "    print(data)"
   ]
  },
  {
   "cell_type": "code",
   "execution_count": null,
   "id": "fd168ed0-d538-49bb-9b5a-a9c4e15d1582",
   "metadata": {},
   "outputs": [],
   "source": []
  }
 ],
 "metadata": {
  "kernelspec": {
   "display_name": "Python 3 (ipykernel)",
   "language": "python",
   "name": "python3"
  },
  "language_info": {
   "codemirror_mode": {
    "name": "ipython",
    "version": 3
   },
   "file_extension": ".py",
   "mimetype": "text/x-python",
   "name": "python",
   "nbconvert_exporter": "python",
   "pygments_lexer": "ipython3",
   "version": "3.10.9"
  }
 },
 "nbformat": 4,
 "nbformat_minor": 5
}
