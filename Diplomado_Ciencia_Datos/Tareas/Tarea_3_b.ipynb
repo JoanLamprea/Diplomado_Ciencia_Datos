{
  "cells": [
    {
      "cell_type": "markdown",
      "metadata": {
        "id": "view-in-github",
        "colab_type": "text"
      },
      "source": [
        "<a href=\"https://colab.research.google.com/github/JoanLamprea/Diplomado_Ciencia_Datos/blob/main/Diplomado_Ciencia_Datos/Tareas/Tarea_3_b.ipynb\" target=\"_parent\"><img src=\"https://colab.research.google.com/assets/colab-badge.svg\" alt=\"Open In Colab\"/></a>"
      ]
    },
    {
      "cell_type": "markdown",
      "id": "c7db3c8c-4393-45dc-a09c-4c3c7a8c5372",
      "metadata": {
        "id": "c7db3c8c-4393-45dc-a09c-4c3c7a8c5372"
      },
      "source": [
        "# Tarea 3"
      ]
    },
    {
      "cell_type": "markdown",
      "id": "35972755-f0fd-4894-bc41-3a2e5156dce3",
      "metadata": {
        "id": "35972755-f0fd-4894-bc41-3a2e5156dce3"
      },
      "source": [
        "3. Escriba una clase con las siguientes funcionalidades:  \n",
        "3.1. Al instanciar un objeto, lee un conjunto de datos numéricos. Por ejemplo puede usar el mismo conjunto de datos iris.csv. Instancie los datos en un dataframe de Pandas  \n",
        "3.2 Implemente un método que calcule las estadísticas descriptivas básicas de cada una de las variables.  \n",
        "3.3 Implemente un método que entregue los nombre de las variables disponibles.  \n",
        "3.4 Implemente un método que reciba el nombre de una variable disponible dentro del objeto ( en el  dataframe) y regrese: sus estadísticas básicas:  media, mediana, desviación, percentiles q25, q50, q75 y dibuje un histograma de la distribución de la variable.  "
      ]
    },
    {
      "cell_type": "code",
      "execution_count": null,
      "id": "c5703c72-6f26-4708-a032-0bda6198c7ce",
      "metadata": {
        "id": "c5703c72-6f26-4708-a032-0bda6198c7ce"
      },
      "outputs": [],
      "source": [
        "# !pip install pandas\n",
        "# !pip install matplotlib\n",
        "# !pip install numpy\n",
        "import pandas as pd\n",
        "import matplotlib.pyplot as plt\n",
        "import numpy as np"
      ]
    },
    {
      "cell_type": "code",
      "execution_count": null,
      "id": "c317b2bd-7ddf-40c7-9574-d66caa4711be",
      "metadata": {
        "id": "c317b2bd-7ddf-40c7-9574-d66caa4711be"
      },
      "outputs": [],
      "source": [
        "class IrisDataFrame:\n",
        "    def __init__(self, file_path):\n",
        "        self.data = pd.read_csv(file_path)\n",
        "\n",
        "    def get_summary_statistics(self):\n",
        "        return self.data.describe()\n",
        "\n",
        "    def get_variable_names(self):\n",
        "        return list(self.data.columns)\n",
        "\n",
        "    def get_variable_statistics(self, variable_name):\n",
        "        variable_data = self.data[variable_name]\n",
        "        stats = {\n",
        "            'mean': np.mean(variable_data),\n",
        "            'median': np.median(variable_data),\n",
        "            'std': np.std(variable_data),\n",
        "            'q25': np.percentile(variable_data, 25),\n",
        "            'q50': np.percentile(variable_data, 50),\n",
        "            'q75': np.percentile(variable_data, 75)\n",
        "        }\n",
        "        plt.hist(variable_data, bins=20)\n",
        "        plt.title(variable_name)\n",
        "        plt.show()\n",
        "        return stats"
      ]
    },
    {
      "cell_type": "code",
      "execution_count": null,
      "id": "1d3dea0a-52b4-49bd-b211-339a2ab28cb5",
      "metadata": {
        "id": "1d3dea0a-52b4-49bd-b211-339a2ab28cb5",
        "outputId": "d7e0747a-3cc6-426d-ab7b-b4931e7b3813"
      },
      "outputs": [
        {
          "name": "stdout",
          "output_type": "stream",
          "text": [
            "       sepal.length  sepal.width  petal.length  petal.width\n",
            "count    150.000000   150.000000    150.000000   150.000000\n",
            "mean       5.843333     3.057333      3.758000     1.199333\n",
            "std        0.828066     0.435866      1.765298     0.762238\n",
            "min        4.300000     2.000000      1.000000     0.100000\n",
            "25%        5.100000     2.800000      1.600000     0.300000\n",
            "50%        5.800000     3.000000      4.350000     1.300000\n",
            "75%        6.400000     3.300000      5.100000     1.800000\n",
            "max        7.900000     4.400000      6.900000     2.500000\n",
            "['sepal.length', 'sepal.width', 'petal.length', 'petal.width', 'variety']\n"
          ]
        },
        {
          "data": {
            "image/png": "[encoded data removed]",
            "text/plain": [
              "<Figure size 640x480 with 1 Axes>"
            ]
          },
          "metadata": {},
          "output_type": "display_data"
        },
        {
          "name": "stdout",
          "output_type": "stream",
          "text": [
            "{'mean': 5.843333333333334, 'median': 5.8, 'std': 0.8253012917851409, 'q25': 5.1, 'q50': 5.8, 'q75': 6.4}\n"
          ]
        }
      ],
      "source": [
        "iris_data = IrisDataFrame('iris.csv')\n",
        "print(iris_data.get_summary_statistics())\n",
        "print(iris_data.get_variable_names())\n",
        "print(iris_data.get_variable_statistics('sepal.length'))"
      ]
    },
    {
      "cell_type": "code",
      "execution_count": null,
      "id": "7c72937f-9a94-4930-875b-602365fd4ee0",
      "metadata": {
        "id": "7c72937f-9a94-4930-875b-602365fd4ee0"
      },
      "outputs": [],
      "source": []
    }
  ],
  "metadata": {
    "kernelspec": {
      "display_name": "Python 3 (ipykernel)",
      "language": "python",
      "name": "python3"
    },
    "language_info": {
      "codemirror_mode": {
        "name": "ipython",
        "version": 3
      },
      "file_extension": ".py",
      "mimetype": "text/x-python",
      "name": "python",
      "nbconvert_exporter": "python",
      "pygments_lexer": "ipython3",
      "version": "3.10.9"
    },
    "colab": {
      "provenance": [],
      "include_colab_link": true
    }
  },
  "nbformat": 4,
  "nbformat_minor": 5
}