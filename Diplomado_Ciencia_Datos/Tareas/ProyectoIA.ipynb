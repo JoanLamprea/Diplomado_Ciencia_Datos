{
  "nbformat": 4,
  "nbformat_minor": 0,
  "metadata": {
    "colab": {
      "provenance": []
    },
    "kernelspec": {
      "name": "python3",
      "display_name": "Python 3"
    },
    "language_info": {
      "name": "python"
    }
  },
  "cells": [
    {
      "cell_type": "markdown",
      "source": [
        "# Detección de tareas hechas con inteligencia artificial.\n",
        "## Objetivos\n",
        "### Objetivo general\n",
        "- Identificar los rasgos distintivos de una tarea realizada con inteligencia artificial.\n",
        "\n",
        "### Objetivos específicos\n",
        "- Recopilar datos.\n",
        "\n",
        "- Seleccionar un algoritmo de aprendizaje automático.\n",
        "\n",
        "- Entrenar y evaluar el modelo.\n",
        "\n",
        "- Implementar el modelo.\n",
        "\n",
        "## Rasgos distintivos de una tarea hecha con inteligencia artificial\n",
        "- Precisión: Una tarea realizada con IA puede tener una mayor precisión en comparación con una tarea realizada manualmente. Por ejemplo, una tarea de reconocimiento de imágenes realizada con IA podría tener una precisión mucho mayor que una tarea similar realizada por una persona.\n",
        "\n",
        "- Velocidad: La IA puede realizar ciertas tareas mucho más rápido que los humanos. Por lo tanto, una tarea que se ha completado muy rápidamente puede indicar que se ha utilizado IA.\n",
        "\n",
        "- Escala: La IA puede manejar grandes cantidades de datos y realizar tareas a gran escala de manera eficiente. Por lo tanto, una tarea que ha manejado una gran cantidad de datos o ha sido realizada en una escala muy grande puede indicar que se ha utilizado IA.\n",
        "\n",
        "- Consistencia: La IA puede realizar tareas de manera consistente, sin importar cuántas veces se realice la tarea. Por lo tanto, si una tarea ha sido realizada varias veces y los resultados son consistentes, esto podría indicar que se ha utilizado IA.\n",
        "\n",
        "- Complejidad: La IA puede manejar tareas complejas y tomar decisiones basadas en una amplia gama de factores. Por lo tanto, si una tarea ha requerido una cantidad significativa de procesamiento y análisis, esto podría indicar que se ha utilizado IA.\n",
        "\n",
        "-- Nota: Es importante resaltar que no todos estos rasgos serán necesariamente evidentes en todas las tareas realizadas con IA.\n",
        "\n",
        "## Problemas\n",
        "- Detectar el uso de trampas y plagio: Si una persona utiliza inteligencia artificial para hacer una tarea de manera fraudulenta, esto se considera un tipo de trampa o plagio. Una IA para detectar el uso de IA podría ayudar a detectar estos casos y evitar que las personas obtengan calificaciones y títulos de manera fraudulenta.\n",
        "\n",
        "- Promover la integridad académica: Al detectar el uso de IA en las tareas, una IA podría ayudar a promover la integridad académica. Los estudiantes tendrían menos incentivos para hacer trampas y serían menos propensos a hacerlo si saben que existe una herramienta de detección.\n",
        "\n",
        "- Facilitar la identificación de patrones de uso de IA: La detección del uso de IA también podría ayudar a las instituciones académicas a comprender mejor cómo se está utilizando la IA en el aprendizaje y la educación. Esto podría ayudar a identificar patrones y tendencias en el uso de la IA, lo que podría ayudar a mejorar el diseño de los programas educativos y mejorar la enseñanza y el aprendizaje.\n",
        "\n",
        "- Identificar áreas de mejora en la educación: Al detectar el uso de IA, una IA también podría ayudar a identificar áreas donde los estudiantes tienen dificultades y necesitan más apoyo o capacitación adicional. Esto podría ayudar a los educadores y las instituciones a mejorar la calidad de la educación y garantizar que los estudiantes estén bien preparados para el futuro.\n",
        "\n",
        "## Limitaciones\n",
        "- Limitaciones en la detección: Es posible que la inteligencia artificial diseñada para detectar el uso de inteligencia artificial tenga limitaciones en cuanto a los tipos de algoritmos y técnicas de inteligencia artificial que puede detectar. Por lo tanto, podría haber ciertos tipos de IA que no puedan ser detectados por el modelo.\n",
        "\n",
        "- Falta de datos de entrenamiento: La precisión del modelo dependerá en gran medida de la calidad y cantidad de datos de entrenamiento disponibles. Si no hay suficientes datos disponibles para entrenar el modelo, es posible que no sea capaz de detectar el uso de inteligencia artificial de manera efectiva.\n",
        "\n",
        "- Falsos positivos y falsos negativos: Es posible que el modelo produzca falsos positivos (es decir, identificar incorrectamente el uso de IA cuando no se ha utilizado) o falsos negativos (es decir, no detectar el uso de IA cuando sí se ha utilizado).\n",
        "\n",
        "- Cambios en la tecnología de IA: A medida que la tecnología de IA sigue evolucionando, es posible que surjan nuevas técnicas y algoritmos que no se hayan considerado en el modelo. Por lo tanto, el modelo podría volverse obsoleto con el tiempo si no se actualiza y adapta a medida que cambia la tecnología de IA.\n",
        "\n",
        "- Privacidad y ética: La implementación de una IA para detectar el uso de IA podría plantear problemas de privacidad y ética. Es posible que los usuarios no estén dispuestos a compartir información sobre el uso de IA, y podría haber preocupaciones sobre la recopilación y el uso de datos sensibles. Además, es importante considerar cómo se utilizarán los resultados de la detección y qué implicaciones podría tener para las personas afectadas.\n",
        "\n",
        "## Datos a utilizar\n",
        "Idealmente se desea emplear los trabajos, talleres y tareas de alguna página de repositorio de los mismo; por ejemplo, Scribd, academia.edu, researchgate, entre otros.\n",
        "\n",
        "\n",
        "\n",
        "\n",
        "\n",
        "\n"
      ],
      "metadata": {
        "id": "BhCRJC7tEhWW"
      }
    }
  ]
}